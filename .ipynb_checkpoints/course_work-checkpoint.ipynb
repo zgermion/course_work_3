{
 "cells": [
  {
   "cell_type": "code",
   "execution_count": 2,
   "metadata": {
    "_cell_guid": "b1076dfc-b9ad-4769-8c92-a6c4dae69d19",
    "_uuid": "8f2839f25d086af736a60e9eeb907d3b93b6e0e5",
    "execution": {
     "iopub.execute_input": "2022-03-27T16:40:16.113727Z",
     "iopub.status.busy": "2022-03-27T16:40:16.113333Z",
     "iopub.status.idle": "2022-03-27T16:40:16.139896Z",
     "shell.execute_reply": "2022-03-27T16:40:16.13899Z",
     "shell.execute_reply.started": "2022-03-27T16:40:16.113629Z"
    }
   },
   "outputs": [],
   "source": [
    "import numpy as np # linear algebra\n",
    "import pandas as pd # data processing, CSV file I/O (e.g. pd.read_csv)"
   ]
  },
  {
   "cell_type": "code",
   "execution_count": 3,
   "metadata": {
    "execution": {
     "iopub.execute_input": "2022-03-27T16:40:18.242411Z",
     "iopub.status.busy": "2022-03-27T16:40:18.242064Z",
     "iopub.status.idle": "2022-03-27T16:40:20.670913Z",
     "shell.execute_reply": "2022-03-27T16:40:20.669915Z",
     "shell.execute_reply.started": "2022-03-27T16:40:18.242371Z"
    }
   },
   "outputs": [],
   "source": [
    "import librosa\n",
    "import librosa.display\n",
    "import seaborn as sns\n",
    "import matplotlib.pyplot as plt\n",
    "from IPython.display import Audio"
   ]
  },
  {
   "cell_type": "code",
   "execution_count": 4,
   "metadata": {
    "execution": {
     "iopub.execute_input": "2022-03-27T16:40:20.672794Z",
     "iopub.status.busy": "2022-03-27T16:40:20.672573Z",
     "iopub.status.idle": "2022-03-27T16:40:20.676614Z",
     "shell.execute_reply": "2022-03-27T16:40:20.676001Z",
     "shell.execute_reply.started": "2022-03-27T16:40:20.672764Z"
    }
   },
   "outputs": [],
   "source": [
    "import os\n",
    "import sys"
   ]
  },
  {
   "cell_type": "code",
   "execution_count": 4,
   "metadata": {
    "execution": {
     "iopub.execute_input": "2022-03-27T16:40:20.701967Z",
     "iopub.status.busy": "2022-03-27T16:40:20.701156Z",
     "iopub.status.idle": "2022-03-27T16:40:20.707527Z",
     "shell.execute_reply": "2022-03-27T16:40:20.706918Z",
     "shell.execute_reply.started": "2022-03-27T16:40:20.701927Z"
    }
   },
   "outputs": [],
   "source": [
    "Crema = \"./AudioWAV/\""
   ]
  },
  {
   "cell_type": "code",
   "execution_count": 5,
   "metadata": {
    "execution": {
     "iopub.execute_input": "2022-03-27T16:40:21.404672Z",
     "iopub.status.busy": "2022-03-27T16:40:21.404093Z",
     "iopub.status.idle": "2022-03-27T16:40:21.764241Z",
     "shell.execute_reply": "2022-03-27T16:40:21.762987Z",
     "shell.execute_reply.started": "2022-03-27T16:40:21.404621Z"
    }
   },
   "outputs": [],
   "source": [
    "crema_directory_list = os.listdir(Crema)\n",
    "\n",
    "file_emotion = []\n",
    "file_path = []\n",
    "\n",
    "for file in crema_directory_list:\n",
    "    # storing file paths\n",
    "    file_path.append(Crema + file)\n",
    "    # storing file emotions\n",
    "    part=file.split('_')\n",
    "    if part[2] == 'SAD':\n",
    "        file_emotion.append('sad')\n",
    "    elif part[2] == 'ANG':\n",
    "        file_emotion.append('angry')\n",
    "    elif part[2] == 'DIS':\n",
    "        file_emotion.append('disgust')\n",
    "    elif part[2] == 'FEA':\n",
    "        file_emotion.append('fear')\n",
    "    elif part[2] == 'HAP':\n",
    "        file_emotion.append('happy')\n",
    "    elif part[2] == 'NEU':\n",
    "        file_emotion.append('neutral')\n",
    "    else:\n",
    "        file_emotion.append('Unknown')"
   ]
  },
  {
   "cell_type": "code",
   "execution_count": 6,
   "metadata": {
    "execution": {
     "iopub.execute_input": "2022-03-27T16:40:24.033654Z",
     "iopub.status.busy": "2022-03-27T16:40:24.033249Z",
     "iopub.status.idle": "2022-03-27T16:40:24.065483Z",
     "shell.execute_reply": "2022-03-27T16:40:24.064683Z",
     "shell.execute_reply.started": "2022-03-27T16:40:24.033612Z"
    }
   },
   "outputs": [
    {
     "data": {
      "text/html": [
       "<div>\n",
       "<style scoped>\n",
       "    .dataframe tbody tr th:only-of-type {\n",
       "        vertical-align: middle;\n",
       "    }\n",
       "\n",
       "    .dataframe tbody tr th {\n",
       "        vertical-align: top;\n",
       "    }\n",
       "\n",
       "    .dataframe thead th {\n",
       "        text-align: right;\n",
       "    }\n",
       "</style>\n",
       "<table border=\"1\" class=\"dataframe\">\n",
       "  <thead>\n",
       "    <tr style=\"text-align: right;\">\n",
       "      <th></th>\n",
       "      <th>Emotions</th>\n",
       "      <th>Path</th>\n",
       "    </tr>\n",
       "  </thead>\n",
       "  <tbody>\n",
       "    <tr>\n",
       "      <th>0</th>\n",
       "      <td>angry</td>\n",
       "      <td>./AudioWAV/1022_ITS_ANG_XX.wav</td>\n",
       "    </tr>\n",
       "    <tr>\n",
       "      <th>1</th>\n",
       "      <td>angry</td>\n",
       "      <td>./AudioWAV/1037_ITS_ANG_XX.wav</td>\n",
       "    </tr>\n",
       "    <tr>\n",
       "      <th>2</th>\n",
       "      <td>neutral</td>\n",
       "      <td>./AudioWAV/1060_ITS_NEU_XX.wav</td>\n",
       "    </tr>\n",
       "    <tr>\n",
       "      <th>3</th>\n",
       "      <td>neutral</td>\n",
       "      <td>./AudioWAV/1075_ITS_NEU_XX.wav</td>\n",
       "    </tr>\n",
       "    <tr>\n",
       "      <th>4</th>\n",
       "      <td>disgust</td>\n",
       "      <td>./AudioWAV/1073_IOM_DIS_XX.wav</td>\n",
       "    </tr>\n",
       "  </tbody>\n",
       "</table>\n",
       "</div>"
      ],
      "text/plain": [
       "  Emotions                            Path\n",
       "0    angry  ./AudioWAV/1022_ITS_ANG_XX.wav\n",
       "1    angry  ./AudioWAV/1037_ITS_ANG_XX.wav\n",
       "2  neutral  ./AudioWAV/1060_ITS_NEU_XX.wav\n",
       "3  neutral  ./AudioWAV/1075_ITS_NEU_XX.wav\n",
       "4  disgust  ./AudioWAV/1073_IOM_DIS_XX.wav"
      ]
     },
     "execution_count": 6,
     "metadata": {},
     "output_type": "execute_result"
    }
   ],
   "source": [
    "# dataframe for emotion of files\n",
    "emotion_df = pd.DataFrame(file_emotion, columns=['Emotions'])\n",
    "\n",
    "# dataframe for path of files.\n",
    "path_df = pd.DataFrame(file_path, columns=['Path'])\n",
    "Crema_df = pd.concat([emotion_df, path_df], axis=1)\n",
    "Crema_df.head()"
   ]
  },
  {
   "cell_type": "code",
   "execution_count": 7,
   "metadata": {
    "execution": {
     "iopub.execute_input": "2022-03-27T17:43:52.144335Z",
     "iopub.status.busy": "2022-03-27T17:43:52.143977Z",
     "iopub.status.idle": "2022-03-27T17:43:52.152355Z",
     "shell.execute_reply": "2022-03-27T17:43:52.151598Z",
     "shell.execute_reply.started": "2022-03-27T17:43:52.144301Z"
    }
   },
   "outputs": [
    {
     "data": {
      "text/plain": [
       "array(['angry', 'neutral', 'disgust', 'sad', 'fear', 'happy'],\n",
       "      dtype=object)"
      ]
     },
     "execution_count": 7,
     "metadata": {},
     "output_type": "execute_result"
    }
   ],
   "source": [
    "Crema_df['Emotions'].unique()"
   ]
  },
  {
   "cell_type": "code",
   "execution_count": 8,
   "metadata": {
    "execution": {
     "iopub.execute_input": "2022-03-27T16:40:24.673595Z",
     "iopub.status.busy": "2022-03-27T16:40:24.672451Z",
     "iopub.status.idle": "2022-03-27T16:40:24.702958Z",
     "shell.execute_reply": "2022-03-27T16:40:24.701957Z",
     "shell.execute_reply.started": "2022-03-27T16:40:24.673551Z"
    }
   },
   "outputs": [
    {
     "name": "stdout",
     "output_type": "stream",
     "text": [
      "<class 'pandas.core.frame.DataFrame'>\n",
      "RangeIndex: 7442 entries, 0 to 7441\n",
      "Data columns (total 2 columns):\n",
      " #   Column    Non-Null Count  Dtype \n",
      "---  ------    --------------  ----- \n",
      " 0   Emotions  7442 non-null   object\n",
      " 1   Path      7442 non-null   object\n",
      "dtypes: object(2)\n",
      "memory usage: 116.4+ KB\n"
     ]
    }
   ],
   "source": [
    "Crema_df.info()"
   ]
  },
  {
   "cell_type": "code",
   "execution_count": 9,
   "metadata": {
    "execution": {
     "iopub.execute_input": "2022-03-27T16:40:51.2573Z",
     "iopub.status.busy": "2022-03-27T16:40:51.256944Z",
     "iopub.status.idle": "2022-03-27T16:40:51.266034Z",
     "shell.execute_reply": "2022-03-27T16:40:51.264935Z",
     "shell.execute_reply.started": "2022-03-27T16:40:51.257248Z"
    }
   },
   "outputs": [],
   "source": [
    "def create_waveplot(data, sr, e):\n",
    "    plt.figure(figsize=(10, 3))\n",
    "    plt.title('Звуковая волна {} emotion'.format(e), size=15)\n",
    "    librosa.display.waveshow(data, sr=sr)\n",
    "    plt.show()\n",
    "\n",
    "def create_spectrogram(data, sr, e):\n",
    "    X = librosa.stft(data)\n",
    "    Xdb = librosa.amplitude_to_db(abs(X))\n",
    "    plt.figure(figsize=(12, 3))\n",
    "    plt.title('Спектрограмма {} emotion'.format(e), size=15)  \n",
    "    librosa.display.specshow(Xdb, sr=sr, x_axis='time', y_axis='log')\n",
    "    plt.colorbar()"
   ]
  },
  {
   "cell_type": "code",
   "execution_count": 10,
   "metadata": {
    "execution": {
     "iopub.execute_input": "2022-03-27T16:41:17.844485Z",
     "iopub.status.busy": "2022-03-27T16:41:17.843691Z",
     "iopub.status.idle": "2022-03-27T16:41:18.804388Z",
     "shell.execute_reply": "2022-03-27T16:41:18.803416Z",
     "shell.execute_reply.started": "2022-03-27T16:41:17.844426Z"
    }
   },
   "outputs": [
    {
     "data": {
      "image/png": "[encoded data removed]",
      "text/plain": [
       "<Figure size 720x216 with 1 Axes>"
      ]
     },
     "metadata": {
      "needs_background": "light"
     },
     "output_type": "display_data"
    },
    {
     "data": {
      "image/png": "[encoded data removed]",
      "text/plain": [
       "<Figure size 864x216 with 2 Axes>"
      ]
     },
     "metadata": {
      "needs_background": "light"
     },
     "output_type": "display_data"
    }
   ],
   "source": [
    "emotion='fear'\n",
    "path = Crema_df.Path[2]\n",
    "Audio(path)\n",
    "emotion = Crema_df.Emotions[2]\n",
    "data, sampling_rate = librosa.load(path)\n",
    "create_waveplot(data, sampling_rate, emotion)\n",
    "create_spectrogram(data, sampling_rate, emotion)"
   ]
  },
  {
   "cell_type": "code",
   "execution_count": 139,
   "metadata": {
    "execution": {
     "iopub.execute_input": "2022-03-27T17:13:27.142659Z",
     "iopub.status.busy": "2022-03-27T17:13:27.142237Z",
     "iopub.status.idle": "2022-03-27T17:13:27.149563Z",
     "shell.execute_reply": "2022-03-27T17:13:27.148807Z",
     "shell.execute_reply.started": "2022-03-27T17:13:27.142613Z"
    }
   },
   "outputs": [],
   "source": [
    "# Создание вектора описательной статистики каждой записи\n",
    "def extract_features(data, sample_rate):\n",
    "    result = np.array([])\n",
    "    # MelSpectogram\n",
    "    mel = librosa.feature.melspectrogram(y=data, sr=sample_rate).T\n",
    "    a = mel.shape[0]\n",
    "    b = mel.shape[1]\n",
    "    mel.resize(1,a*b)\n",
    "    result = np.hstack((result, mel[0])) # stacking horizontally\n",
    "    \n",
    "    return result"
   ]
  },
  {
   "cell_type": "code",
   "execution_count": 140,
   "metadata": {
    "execution": {
     "iopub.execute_input": "2022-03-27T17:13:27.394743Z",
     "iopub.status.busy": "2022-03-27T17:13:27.393759Z",
     "iopub.status.idle": "2022-03-27T17:13:27.4002Z",
     "shell.execute_reply": "2022-03-27T17:13:27.399419Z",
     "shell.execute_reply.started": "2022-03-27T17:13:27.394689Z"
    }
   },
   "outputs": [],
   "source": [
    "def get_features(path):\n",
    "    # duration - длительность аудио, offset - смещение.\n",
    "    data, sample_rate = librosa.load(path, duration=2.5, offset=0.6)\n",
    "    \n",
    "    # Без изменений\n",
    "    res1 = extract_features(data, sample_rate)\n",
    "    result = np.array(res1)\n",
    "    \n",
    "    return result"
   ]
  },
  {
   "cell_type": "code",
   "execution_count": 141,
   "metadata": {
    "execution": {
     "iopub.execute_input": "2022-03-27T17:19:57.841415Z",
     "iopub.status.busy": "2022-03-27T17:19:57.841082Z",
     "iopub.status.idle": "2022-03-27T17:31:57.884565Z",
     "shell.execute_reply": "2022-03-27T17:31:57.883204Z",
     "shell.execute_reply.started": "2022-03-27T17:19:57.84138Z"
    }
   },
   "outputs": [],
   "source": [
    "X, Y = [], []\n",
    "for path, emotion in zip(Crema_df.Path, Crema_df.Emotions):\n",
    "    feature = get_features(path)\n",
    "    X.append(feature)\n",
    "    Y.append(emotion)"
   ]
  },
  {
   "cell_type": "code",
   "execution_count": 142,
   "metadata": {
    "execution": {
     "iopub.execute_input": "2022-03-27T17:32:28.408147Z",
     "iopub.status.busy": "2022-03-27T17:32:28.406739Z",
     "iopub.status.idle": "2022-03-27T17:32:28.416035Z",
     "shell.execute_reply": "2022-03-27T17:32:28.414944Z",
     "shell.execute_reply.started": "2022-03-27T17:32:28.408082Z"
    }
   },
   "outputs": [
    {
     "data": {
      "text/plain": [
       "(7442, 7442)"
      ]
     },
     "execution_count": 142,
     "metadata": {},
     "output_type": "execute_result"
    }
   ],
   "source": [
    "len(X), len(Y)"
   ]
  },
  {
   "cell_type": "code",
   "execution_count": 143,
   "metadata": {
    "execution": {
     "iopub.execute_input": "2022-03-27T17:32:30.591625Z",
     "iopub.status.busy": "2022-03-27T17:32:30.591269Z",
     "iopub.status.idle": "2022-03-27T17:32:33.465369Z",
     "shell.execute_reply": "2022-03-27T17:32:33.464504Z",
     "shell.execute_reply.started": "2022-03-27T17:32:30.591592Z"
    }
   },
   "outputs": [
    {
     "data": {
      "text/html": [
       "<div>\n",
       "<style scoped>\n",
       "    .dataframe tbody tr th:only-of-type {\n",
       "        vertical-align: middle;\n",
       "    }\n",
       "\n",
       "    .dataframe tbody tr th {\n",
       "        vertical-align: top;\n",
       "    }\n",
       "\n",
       "    .dataframe thead th {\n",
       "        text-align: right;\n",
       "    }\n",
       "</style>\n",
       "<table border=\"1\" class=\"dataframe\">\n",
       "  <thead>\n",
       "    <tr style=\"text-align: right;\">\n",
       "      <th></th>\n",
       "      <th>0</th>\n",
       "      <th>1</th>\n",
       "      <th>2</th>\n",
       "      <th>3</th>\n",
       "      <th>4</th>\n",
       "      <th>5</th>\n",
       "      <th>6</th>\n",
       "      <th>7</th>\n",
       "      <th>8</th>\n",
       "      <th>9</th>\n",
       "      <th>...</th>\n",
       "      <th>13815</th>\n",
       "      <th>13816</th>\n",
       "      <th>13817</th>\n",
       "      <th>13818</th>\n",
       "      <th>13819</th>\n",
       "      <th>13820</th>\n",
       "      <th>13821</th>\n",
       "      <th>13822</th>\n",
       "      <th>13823</th>\n",
       "      <th>labels</th>\n",
       "    </tr>\n",
       "  </thead>\n",
       "  <tbody>\n",
       "    <tr>\n",
       "      <th>0</th>\n",
       "      <td>0.042846</td>\n",
       "      <td>0.124823</td>\n",
       "      <td>0.275732</td>\n",
       "      <td>0.195043</td>\n",
       "      <td>0.042775</td>\n",
       "      <td>0.013419</td>\n",
       "      <td>0.020612</td>\n",
       "      <td>0.047416</td>\n",
       "      <td>0.118046</td>\n",
       "      <td>0.220901</td>\n",
       "      <td>...</td>\n",
       "      <td>NaN</td>\n",
       "      <td>NaN</td>\n",
       "      <td>NaN</td>\n",
       "      <td>NaN</td>\n",
       "      <td>NaN</td>\n",
       "      <td>NaN</td>\n",
       "      <td>NaN</td>\n",
       "      <td>NaN</td>\n",
       "      <td>NaN</td>\n",
       "      <td>angry</td>\n",
       "    </tr>\n",
       "    <tr>\n",
       "      <th>1</th>\n",
       "      <td>0.023672</td>\n",
       "      <td>0.047448</td>\n",
       "      <td>0.058399</td>\n",
       "      <td>0.105250</td>\n",
       "      <td>0.091233</td>\n",
       "      <td>0.105898</td>\n",
       "      <td>0.053098</td>\n",
       "      <td>0.090422</td>\n",
       "      <td>0.148984</td>\n",
       "      <td>0.106467</td>\n",
       "      <td>...</td>\n",
       "      <td>NaN</td>\n",
       "      <td>NaN</td>\n",
       "      <td>NaN</td>\n",
       "      <td>NaN</td>\n",
       "      <td>NaN</td>\n",
       "      <td>NaN</td>\n",
       "      <td>NaN</td>\n",
       "      <td>NaN</td>\n",
       "      <td>NaN</td>\n",
       "      <td>angry</td>\n",
       "    </tr>\n",
       "    <tr>\n",
       "      <th>2</th>\n",
       "      <td>0.001609</td>\n",
       "      <td>0.004600</td>\n",
       "      <td>0.027379</td>\n",
       "      <td>0.027074</td>\n",
       "      <td>0.002579</td>\n",
       "      <td>0.008287</td>\n",
       "      <td>0.042709</td>\n",
       "      <td>0.038335</td>\n",
       "      <td>0.067240</td>\n",
       "      <td>0.080544</td>\n",
       "      <td>...</td>\n",
       "      <td>NaN</td>\n",
       "      <td>NaN</td>\n",
       "      <td>NaN</td>\n",
       "      <td>NaN</td>\n",
       "      <td>NaN</td>\n",
       "      <td>NaN</td>\n",
       "      <td>NaN</td>\n",
       "      <td>NaN</td>\n",
       "      <td>NaN</td>\n",
       "      <td>neutral</td>\n",
       "    </tr>\n",
       "    <tr>\n",
       "      <th>3</th>\n",
       "      <td>0.016473</td>\n",
       "      <td>0.029656</td>\n",
       "      <td>0.020612</td>\n",
       "      <td>0.030338</td>\n",
       "      <td>0.049569</td>\n",
       "      <td>0.113153</td>\n",
       "      <td>0.083516</td>\n",
       "      <td>0.058937</td>\n",
       "      <td>0.132452</td>\n",
       "      <td>0.085231</td>\n",
       "      <td>...</td>\n",
       "      <td>NaN</td>\n",
       "      <td>NaN</td>\n",
       "      <td>NaN</td>\n",
       "      <td>NaN</td>\n",
       "      <td>NaN</td>\n",
       "      <td>NaN</td>\n",
       "      <td>NaN</td>\n",
       "      <td>NaN</td>\n",
       "      <td>NaN</td>\n",
       "      <td>neutral</td>\n",
       "    </tr>\n",
       "    <tr>\n",
       "      <th>4</th>\n",
       "      <td>0.019109</td>\n",
       "      <td>0.129222</td>\n",
       "      <td>0.151689</td>\n",
       "      <td>0.142457</td>\n",
       "      <td>0.125509</td>\n",
       "      <td>0.113003</td>\n",
       "      <td>0.157875</td>\n",
       "      <td>0.058317</td>\n",
       "      <td>0.026644</td>\n",
       "      <td>0.027917</td>\n",
       "      <td>...</td>\n",
       "      <td>NaN</td>\n",
       "      <td>NaN</td>\n",
       "      <td>NaN</td>\n",
       "      <td>NaN</td>\n",
       "      <td>NaN</td>\n",
       "      <td>NaN</td>\n",
       "      <td>NaN</td>\n",
       "      <td>NaN</td>\n",
       "      <td>NaN</td>\n",
       "      <td>disgust</td>\n",
       "    </tr>\n",
       "  </tbody>\n",
       "</table>\n",
       "<p>5 rows × 13825 columns</p>\n",
       "</div>"
      ],
      "text/plain": [
       "          0         1         2         3         4         5         6  \\\n",
       "0  0.042846  0.124823  0.275732  0.195043  0.042775  0.013419  0.020612   \n",
       "1  0.023672  0.047448  0.058399  0.105250  0.091233  0.105898  0.053098   \n",
       "2  0.001609  0.004600  0.027379  0.027074  0.002579  0.008287  0.042709   \n",
       "3  0.016473  0.029656  0.020612  0.030338  0.049569  0.113153  0.083516   \n",
       "4  0.019109  0.129222  0.151689  0.142457  0.125509  0.113003  0.157875   \n",
       "\n",
       "          7         8         9  ...  13815  13816  13817  13818  13819  \\\n",
       "0  0.047416  0.118046  0.220901  ...    NaN    NaN    NaN    NaN    NaN   \n",
       "1  0.090422  0.148984  0.106467  ...    NaN    NaN    NaN    NaN    NaN   \n",
       "2  0.038335  0.067240  0.080544  ...    NaN    NaN    NaN    NaN    NaN   \n",
       "3  0.058937  0.132452  0.085231  ...    NaN    NaN    NaN    NaN    NaN   \n",
       "4  0.058317  0.026644  0.027917  ...    NaN    NaN    NaN    NaN    NaN   \n",
       "\n",
       "   13820  13821  13822  13823   labels  \n",
       "0    NaN    NaN    NaN    NaN    angry  \n",
       "1    NaN    NaN    NaN    NaN    angry  \n",
       "2    NaN    NaN    NaN    NaN  neutral  \n",
       "3    NaN    NaN    NaN    NaN  neutral  \n",
       "4    NaN    NaN    NaN    NaN  disgust  \n",
       "\n",
       "[5 rows x 13825 columns]"
      ]
     },
     "execution_count": 143,
     "metadata": {},
     "output_type": "execute_result"
    }
   ],
   "source": [
    "Features = pd.DataFrame(X)\n",
    "Features['labels'] = Y\n",
    "Features.head()"
   ]
  },
  {
   "cell_type": "code",
   "execution_count": 144,
   "metadata": {
    "scrolled": true
   },
   "outputs": [
    {
     "data": {
      "text/html": [
       "<div>\n",
       "<style scoped>\n",
       "    .dataframe tbody tr th:only-of-type {\n",
       "        vertical-align: middle;\n",
       "    }\n",
       "\n",
       "    .dataframe tbody tr th {\n",
       "        vertical-align: top;\n",
       "    }\n",
       "\n",
       "    .dataframe thead th {\n",
       "        text-align: right;\n",
       "    }\n",
       "</style>\n",
       "<table border=\"1\" class=\"dataframe\">\n",
       "  <thead>\n",
       "    <tr style=\"text-align: right;\">\n",
       "      <th></th>\n",
       "      <th>0</th>\n",
       "      <th>1</th>\n",
       "      <th>2</th>\n",
       "      <th>3</th>\n",
       "      <th>4</th>\n",
       "      <th>5</th>\n",
       "      <th>6</th>\n",
       "      <th>7</th>\n",
       "      <th>8</th>\n",
       "      <th>9</th>\n",
       "      <th>...</th>\n",
       "      <th>13815</th>\n",
       "      <th>13816</th>\n",
       "      <th>13817</th>\n",
       "      <th>13818</th>\n",
       "      <th>13819</th>\n",
       "      <th>13820</th>\n",
       "      <th>13821</th>\n",
       "      <th>13822</th>\n",
       "      <th>13823</th>\n",
       "      <th>labels</th>\n",
       "    </tr>\n",
       "  </thead>\n",
       "  <tbody>\n",
       "    <tr>\n",
       "      <th>0</th>\n",
       "      <td>0.042846</td>\n",
       "      <td>0.124823</td>\n",
       "      <td>0.275732</td>\n",
       "      <td>0.195043</td>\n",
       "      <td>0.042775</td>\n",
       "      <td>0.013419</td>\n",
       "      <td>0.020612</td>\n",
       "      <td>0.047416</td>\n",
       "      <td>0.118046</td>\n",
       "      <td>0.220901</td>\n",
       "      <td>...</td>\n",
       "      <td>0.000000e+00</td>\n",
       "      <td>0.000000e+00</td>\n",
       "      <td>0.000000e+00</td>\n",
       "      <td>0.000000e+00</td>\n",
       "      <td>0.000000e+00</td>\n",
       "      <td>0.000000e+00</td>\n",
       "      <td>0.000000e+00</td>\n",
       "      <td>0.000000e+00</td>\n",
       "      <td>0.000000e+00</td>\n",
       "      <td>angry</td>\n",
       "    </tr>\n",
       "    <tr>\n",
       "      <th>1</th>\n",
       "      <td>0.023672</td>\n",
       "      <td>0.047448</td>\n",
       "      <td>0.058399</td>\n",
       "      <td>0.105250</td>\n",
       "      <td>0.091233</td>\n",
       "      <td>0.105898</td>\n",
       "      <td>0.053098</td>\n",
       "      <td>0.090422</td>\n",
       "      <td>0.148984</td>\n",
       "      <td>0.106467</td>\n",
       "      <td>...</td>\n",
       "      <td>0.000000e+00</td>\n",
       "      <td>0.000000e+00</td>\n",
       "      <td>0.000000e+00</td>\n",
       "      <td>0.000000e+00</td>\n",
       "      <td>0.000000e+00</td>\n",
       "      <td>0.000000e+00</td>\n",
       "      <td>0.000000e+00</td>\n",
       "      <td>0.000000e+00</td>\n",
       "      <td>0.000000e+00</td>\n",
       "      <td>angry</td>\n",
       "    </tr>\n",
       "    <tr>\n",
       "      <th>2</th>\n",
       "      <td>0.001609</td>\n",
       "      <td>0.004600</td>\n",
       "      <td>0.027379</td>\n",
       "      <td>0.027074</td>\n",
       "      <td>0.002579</td>\n",
       "      <td>0.008287</td>\n",
       "      <td>0.042709</td>\n",
       "      <td>0.038335</td>\n",
       "      <td>0.067240</td>\n",
       "      <td>0.080544</td>\n",
       "      <td>...</td>\n",
       "      <td>0.000000e+00</td>\n",
       "      <td>0.000000e+00</td>\n",
       "      <td>0.000000e+00</td>\n",
       "      <td>0.000000e+00</td>\n",
       "      <td>0.000000e+00</td>\n",
       "      <td>0.000000e+00</td>\n",
       "      <td>0.000000e+00</td>\n",
       "      <td>0.000000e+00</td>\n",
       "      <td>0.000000e+00</td>\n",
       "      <td>neutral</td>\n",
       "    </tr>\n",
       "    <tr>\n",
       "      <th>3</th>\n",
       "      <td>0.016473</td>\n",
       "      <td>0.029656</td>\n",
       "      <td>0.020612</td>\n",
       "      <td>0.030338</td>\n",
       "      <td>0.049569</td>\n",
       "      <td>0.113153</td>\n",
       "      <td>0.083516</td>\n",
       "      <td>0.058937</td>\n",
       "      <td>0.132452</td>\n",
       "      <td>0.085231</td>\n",
       "      <td>...</td>\n",
       "      <td>0.000000e+00</td>\n",
       "      <td>0.000000e+00</td>\n",
       "      <td>0.000000e+00</td>\n",
       "      <td>0.000000e+00</td>\n",
       "      <td>0.000000e+00</td>\n",
       "      <td>0.000000e+00</td>\n",
       "      <td>0.000000e+00</td>\n",
       "      <td>0.000000e+00</td>\n",
       "      <td>0.000000e+00</td>\n",
       "      <td>neutral</td>\n",
       "    </tr>\n",
       "    <tr>\n",
       "      <th>4</th>\n",
       "      <td>0.019109</td>\n",
       "      <td>0.129222</td>\n",
       "      <td>0.151689</td>\n",
       "      <td>0.142457</td>\n",
       "      <td>0.125509</td>\n",
       "      <td>0.113003</td>\n",
       "      <td>0.157875</td>\n",
       "      <td>0.058317</td>\n",
       "      <td>0.026644</td>\n",
       "      <td>0.027917</td>\n",
       "      <td>...</td>\n",
       "      <td>0.000000e+00</td>\n",
       "      <td>0.000000e+00</td>\n",
       "      <td>0.000000e+00</td>\n",
       "      <td>0.000000e+00</td>\n",
       "      <td>0.000000e+00</td>\n",
       "      <td>0.000000e+00</td>\n",
       "      <td>0.000000e+00</td>\n",
       "      <td>0.000000e+00</td>\n",
       "      <td>0.000000e+00</td>\n",
       "      <td>disgust</td>\n",
       "    </tr>\n",
       "    <tr>\n",
       "      <th>...</th>\n",
       "      <td>...</td>\n",
       "      <td>...</td>\n",
       "      <td>...</td>\n",
       "      <td>...</td>\n",
       "      <td>...</td>\n",
       "      <td>...</td>\n",
       "      <td>...</td>\n",
       "      <td>...</td>\n",
       "      <td>...</td>\n",
       "      <td>...</td>\n",
       "      <td>...</td>\n",
       "      <td>...</td>\n",
       "      <td>...</td>\n",
       "      <td>...</td>\n",
       "      <td>...</td>\n",
       "      <td>...</td>\n",
       "      <td>...</td>\n",
       "      <td>...</td>\n",
       "      <td>...</td>\n",
       "      <td>...</td>\n",
       "      <td>...</td>\n",
       "    </tr>\n",
       "    <tr>\n",
       "      <th>7437</th>\n",
       "      <td>0.031157</td>\n",
       "      <td>0.026871</td>\n",
       "      <td>0.010916</td>\n",
       "      <td>0.005925</td>\n",
       "      <td>0.079781</td>\n",
       "      <td>0.136954</td>\n",
       "      <td>0.063661</td>\n",
       "      <td>0.073214</td>\n",
       "      <td>0.059806</td>\n",
       "      <td>0.013275</td>\n",
       "      <td>...</td>\n",
       "      <td>0.000000e+00</td>\n",
       "      <td>0.000000e+00</td>\n",
       "      <td>0.000000e+00</td>\n",
       "      <td>0.000000e+00</td>\n",
       "      <td>0.000000e+00</td>\n",
       "      <td>0.000000e+00</td>\n",
       "      <td>0.000000e+00</td>\n",
       "      <td>0.000000e+00</td>\n",
       "      <td>0.000000e+00</td>\n",
       "      <td>angry</td>\n",
       "    </tr>\n",
       "    <tr>\n",
       "      <th>7438</th>\n",
       "      <td>0.207839</td>\n",
       "      <td>0.063924</td>\n",
       "      <td>0.004913</td>\n",
       "      <td>0.025771</td>\n",
       "      <td>0.062492</td>\n",
       "      <td>0.048038</td>\n",
       "      <td>0.053210</td>\n",
       "      <td>0.129690</td>\n",
       "      <td>0.092489</td>\n",
       "      <td>0.088458</td>\n",
       "      <td>...</td>\n",
       "      <td>0.000000e+00</td>\n",
       "      <td>0.000000e+00</td>\n",
       "      <td>0.000000e+00</td>\n",
       "      <td>0.000000e+00</td>\n",
       "      <td>0.000000e+00</td>\n",
       "      <td>0.000000e+00</td>\n",
       "      <td>0.000000e+00</td>\n",
       "      <td>0.000000e+00</td>\n",
       "      <td>0.000000e+00</td>\n",
       "      <td>angry</td>\n",
       "    </tr>\n",
       "    <tr>\n",
       "      <th>7439</th>\n",
       "      <td>0.087382</td>\n",
       "      <td>0.040754</td>\n",
       "      <td>0.096612</td>\n",
       "      <td>0.096922</td>\n",
       "      <td>0.083995</td>\n",
       "      <td>0.071978</td>\n",
       "      <td>0.133118</td>\n",
       "      <td>0.196258</td>\n",
       "      <td>0.135280</td>\n",
       "      <td>0.168491</td>\n",
       "      <td>...</td>\n",
       "      <td>0.000000e+00</td>\n",
       "      <td>0.000000e+00</td>\n",
       "      <td>0.000000e+00</td>\n",
       "      <td>0.000000e+00</td>\n",
       "      <td>0.000000e+00</td>\n",
       "      <td>0.000000e+00</td>\n",
       "      <td>0.000000e+00</td>\n",
       "      <td>0.000000e+00</td>\n",
       "      <td>0.000000e+00</td>\n",
       "      <td>angry</td>\n",
       "    </tr>\n",
       "    <tr>\n",
       "      <th>7440</th>\n",
       "      <td>0.091006</td>\n",
       "      <td>0.203429</td>\n",
       "      <td>0.109613</td>\n",
       "      <td>0.118641</td>\n",
       "      <td>0.453333</td>\n",
       "      <td>0.524382</td>\n",
       "      <td>0.198560</td>\n",
       "      <td>0.045588</td>\n",
       "      <td>0.024922</td>\n",
       "      <td>0.045086</td>\n",
       "      <td>...</td>\n",
       "      <td>1.488868e-16</td>\n",
       "      <td>1.332499e-16</td>\n",
       "      <td>9.280025e-17</td>\n",
       "      <td>9.670260e-17</td>\n",
       "      <td>1.436783e-16</td>\n",
       "      <td>9.077784e-17</td>\n",
       "      <td>9.897912e-17</td>\n",
       "      <td>1.739961e-11</td>\n",
       "      <td>2.173631e-09</td>\n",
       "      <td>angry</td>\n",
       "    </tr>\n",
       "    <tr>\n",
       "      <th>7441</th>\n",
       "      <td>0.016861</td>\n",
       "      <td>0.014781</td>\n",
       "      <td>0.028702</td>\n",
       "      <td>0.036108</td>\n",
       "      <td>0.045072</td>\n",
       "      <td>0.036167</td>\n",
       "      <td>0.020188</td>\n",
       "      <td>0.115688</td>\n",
       "      <td>0.157454</td>\n",
       "      <td>0.048041</td>\n",
       "      <td>...</td>\n",
       "      <td>0.000000e+00</td>\n",
       "      <td>0.000000e+00</td>\n",
       "      <td>0.000000e+00</td>\n",
       "      <td>0.000000e+00</td>\n",
       "      <td>0.000000e+00</td>\n",
       "      <td>0.000000e+00</td>\n",
       "      <td>0.000000e+00</td>\n",
       "      <td>0.000000e+00</td>\n",
       "      <td>0.000000e+00</td>\n",
       "      <td>neutral</td>\n",
       "    </tr>\n",
       "  </tbody>\n",
       "</table>\n",
       "<p>7442 rows × 13825 columns</p>\n",
       "</div>"
      ],
      "text/plain": [
       "             0         1         2         3         4         5         6  \\\n",
       "0     0.042846  0.124823  0.275732  0.195043  0.042775  0.013419  0.020612   \n",
       "1     0.023672  0.047448  0.058399  0.105250  0.091233  0.105898  0.053098   \n",
       "2     0.001609  0.004600  0.027379  0.027074  0.002579  0.008287  0.042709   \n",
       "3     0.016473  0.029656  0.020612  0.030338  0.049569  0.113153  0.083516   \n",
       "4     0.019109  0.129222  0.151689  0.142457  0.125509  0.113003  0.157875   \n",
       "...        ...       ...       ...       ...       ...       ...       ...   \n",
       "7437  0.031157  0.026871  0.010916  0.005925  0.079781  0.136954  0.063661   \n",
       "7438  0.207839  0.063924  0.004913  0.025771  0.062492  0.048038  0.053210   \n",
       "7439  0.087382  0.040754  0.096612  0.096922  0.083995  0.071978  0.133118   \n",
       "7440  0.091006  0.203429  0.109613  0.118641  0.453333  0.524382  0.198560   \n",
       "7441  0.016861  0.014781  0.028702  0.036108  0.045072  0.036167  0.020188   \n",
       "\n",
       "             7         8         9  ...         13815         13816  \\\n",
       "0     0.047416  0.118046  0.220901  ...  0.000000e+00  0.000000e+00   \n",
       "1     0.090422  0.148984  0.106467  ...  0.000000e+00  0.000000e+00   \n",
       "2     0.038335  0.067240  0.080544  ...  0.000000e+00  0.000000e+00   \n",
       "3     0.058937  0.132452  0.085231  ...  0.000000e+00  0.000000e+00   \n",
       "4     0.058317  0.026644  0.027917  ...  0.000000e+00  0.000000e+00   \n",
       "...        ...       ...       ...  ...           ...           ...   \n",
       "7437  0.073214  0.059806  0.013275  ...  0.000000e+00  0.000000e+00   \n",
       "7438  0.129690  0.092489  0.088458  ...  0.000000e+00  0.000000e+00   \n",
       "7439  0.196258  0.135280  0.168491  ...  0.000000e+00  0.000000e+00   \n",
       "7440  0.045588  0.024922  0.045086  ...  1.488868e-16  1.332499e-16   \n",
       "7441  0.115688  0.157454  0.048041  ...  0.000000e+00  0.000000e+00   \n",
       "\n",
       "             13817         13818         13819         13820         13821  \\\n",
       "0     0.000000e+00  0.000000e+00  0.000000e+00  0.000000e+00  0.000000e+00   \n",
       "1     0.000000e+00  0.000000e+00  0.000000e+00  0.000000e+00  0.000000e+00   \n",
       "2     0.000000e+00  0.000000e+00  0.000000e+00  0.000000e+00  0.000000e+00   \n",
       "3     0.000000e+00  0.000000e+00  0.000000e+00  0.000000e+00  0.000000e+00   \n",
       "4     0.000000e+00  0.000000e+00  0.000000e+00  0.000000e+00  0.000000e+00   \n",
       "...            ...           ...           ...           ...           ...   \n",
       "7437  0.000000e+00  0.000000e+00  0.000000e+00  0.000000e+00  0.000000e+00   \n",
       "7438  0.000000e+00  0.000000e+00  0.000000e+00  0.000000e+00  0.000000e+00   \n",
       "7439  0.000000e+00  0.000000e+00  0.000000e+00  0.000000e+00  0.000000e+00   \n",
       "7440  9.280025e-17  9.670260e-17  1.436783e-16  9.077784e-17  9.897912e-17   \n",
       "7441  0.000000e+00  0.000000e+00  0.000000e+00  0.000000e+00  0.000000e+00   \n",
       "\n",
       "             13822         13823   labels  \n",
       "0     0.000000e+00  0.000000e+00    angry  \n",
       "1     0.000000e+00  0.000000e+00    angry  \n",
       "2     0.000000e+00  0.000000e+00  neutral  \n",
       "3     0.000000e+00  0.000000e+00  neutral  \n",
       "4     0.000000e+00  0.000000e+00  disgust  \n",
       "...            ...           ...      ...  \n",
       "7437  0.000000e+00  0.000000e+00    angry  \n",
       "7438  0.000000e+00  0.000000e+00    angry  \n",
       "7439  0.000000e+00  0.000000e+00    angry  \n",
       "7440  1.739961e-11  2.173631e-09    angry  \n",
       "7441  0.000000e+00  0.000000e+00  neutral  \n",
       "\n",
       "[7442 rows x 13825 columns]"
      ]
     },
     "execution_count": 144,
     "metadata": {},
     "output_type": "execute_result"
    }
   ],
   "source": [
    "Features.replace(np.nan, 0)"
   ]
  },
  {
   "cell_type": "code",
   "execution_count": 145,
   "metadata": {},
   "outputs": [],
   "source": [
    "Features.to_csv('features.csv', index=False)"
   ]
  },
  {
   "cell_type": "code",
   "execution_count": 33,
   "metadata": {},
   "outputs": [],
   "source": [
    "Features = pd.read_csv('features.csv')"
   ]
  },
  {
   "cell_type": "code",
   "execution_count": 34,
   "metadata": {},
   "outputs": [],
   "source": [
    "K = Features.replace(np.nan, 0)"
   ]
  },
  {
   "cell_type": "code",
   "execution_count": 35,
   "metadata": {},
   "outputs": [
    {
     "data": {
      "text/html": [
       "<div>\n",
       "<style scoped>\n",
       "    .dataframe tbody tr th:only-of-type {\n",
       "        vertical-align: middle;\n",
       "    }\n",
       "\n",
       "    .dataframe tbody tr th {\n",
       "        vertical-align: top;\n",
       "    }\n",
       "\n",
       "    .dataframe thead th {\n",
       "        text-align: right;\n",
       "    }\n",
       "</style>\n",
       "<table border=\"1\" class=\"dataframe\">\n",
       "  <thead>\n",
       "    <tr style=\"text-align: right;\">\n",
       "      <th></th>\n",
       "      <th>0</th>\n",
       "      <th>1</th>\n",
       "      <th>2</th>\n",
       "      <th>3</th>\n",
       "      <th>4</th>\n",
       "      <th>5</th>\n",
       "      <th>6</th>\n",
       "      <th>7</th>\n",
       "      <th>8</th>\n",
       "      <th>9</th>\n",
       "      <th>...</th>\n",
       "      <th>13815</th>\n",
       "      <th>13816</th>\n",
       "      <th>13817</th>\n",
       "      <th>13818</th>\n",
       "      <th>13819</th>\n",
       "      <th>13820</th>\n",
       "      <th>13821</th>\n",
       "      <th>13822</th>\n",
       "      <th>13823</th>\n",
       "      <th>labels</th>\n",
       "    </tr>\n",
       "  </thead>\n",
       "  <tbody>\n",
       "    <tr>\n",
       "      <th>0</th>\n",
       "      <td>0.042846</td>\n",
       "      <td>0.124823</td>\n",
       "      <td>0.275732</td>\n",
       "      <td>0.195043</td>\n",
       "      <td>0.042775</td>\n",
       "      <td>0.013419</td>\n",
       "      <td>0.020612</td>\n",
       "      <td>0.047416</td>\n",
       "      <td>0.118046</td>\n",
       "      <td>0.220901</td>\n",
       "      <td>...</td>\n",
       "      <td>0.0</td>\n",
       "      <td>0.0</td>\n",
       "      <td>0.0</td>\n",
       "      <td>0.0</td>\n",
       "      <td>0.0</td>\n",
       "      <td>0.0</td>\n",
       "      <td>0.0</td>\n",
       "      <td>0.0</td>\n",
       "      <td>0.0</td>\n",
       "      <td>angry</td>\n",
       "    </tr>\n",
       "    <tr>\n",
       "      <th>1</th>\n",
       "      <td>0.023672</td>\n",
       "      <td>0.047448</td>\n",
       "      <td>0.058399</td>\n",
       "      <td>0.105250</td>\n",
       "      <td>0.091233</td>\n",
       "      <td>0.105898</td>\n",
       "      <td>0.053098</td>\n",
       "      <td>0.090422</td>\n",
       "      <td>0.148984</td>\n",
       "      <td>0.106467</td>\n",
       "      <td>...</td>\n",
       "      <td>0.0</td>\n",
       "      <td>0.0</td>\n",
       "      <td>0.0</td>\n",
       "      <td>0.0</td>\n",
       "      <td>0.0</td>\n",
       "      <td>0.0</td>\n",
       "      <td>0.0</td>\n",
       "      <td>0.0</td>\n",
       "      <td>0.0</td>\n",
       "      <td>angry</td>\n",
       "    </tr>\n",
       "    <tr>\n",
       "      <th>2</th>\n",
       "      <td>0.001609</td>\n",
       "      <td>0.004600</td>\n",
       "      <td>0.027379</td>\n",
       "      <td>0.027074</td>\n",
       "      <td>0.002579</td>\n",
       "      <td>0.008287</td>\n",
       "      <td>0.042709</td>\n",
       "      <td>0.038335</td>\n",
       "      <td>0.067240</td>\n",
       "      <td>0.080544</td>\n",
       "      <td>...</td>\n",
       "      <td>0.0</td>\n",
       "      <td>0.0</td>\n",
       "      <td>0.0</td>\n",
       "      <td>0.0</td>\n",
       "      <td>0.0</td>\n",
       "      <td>0.0</td>\n",
       "      <td>0.0</td>\n",
       "      <td>0.0</td>\n",
       "      <td>0.0</td>\n",
       "      <td>neutral</td>\n",
       "    </tr>\n",
       "    <tr>\n",
       "      <th>3</th>\n",
       "      <td>0.016473</td>\n",
       "      <td>0.029656</td>\n",
       "      <td>0.020612</td>\n",
       "      <td>0.030338</td>\n",
       "      <td>0.049569</td>\n",
       "      <td>0.113153</td>\n",
       "      <td>0.083516</td>\n",
       "      <td>0.058937</td>\n",
       "      <td>0.132452</td>\n",
       "      <td>0.085231</td>\n",
       "      <td>...</td>\n",
       "      <td>0.0</td>\n",
       "      <td>0.0</td>\n",
       "      <td>0.0</td>\n",
       "      <td>0.0</td>\n",
       "      <td>0.0</td>\n",
       "      <td>0.0</td>\n",
       "      <td>0.0</td>\n",
       "      <td>0.0</td>\n",
       "      <td>0.0</td>\n",
       "      <td>neutral</td>\n",
       "    </tr>\n",
       "    <tr>\n",
       "      <th>4</th>\n",
       "      <td>0.019109</td>\n",
       "      <td>0.129222</td>\n",
       "      <td>0.151689</td>\n",
       "      <td>0.142457</td>\n",
       "      <td>0.125509</td>\n",
       "      <td>0.113003</td>\n",
       "      <td>0.157875</td>\n",
       "      <td>0.058317</td>\n",
       "      <td>0.026644</td>\n",
       "      <td>0.027917</td>\n",
       "      <td>...</td>\n",
       "      <td>0.0</td>\n",
       "      <td>0.0</td>\n",
       "      <td>0.0</td>\n",
       "      <td>0.0</td>\n",
       "      <td>0.0</td>\n",
       "      <td>0.0</td>\n",
       "      <td>0.0</td>\n",
       "      <td>0.0</td>\n",
       "      <td>0.0</td>\n",
       "      <td>disgust</td>\n",
       "    </tr>\n",
       "  </tbody>\n",
       "</table>\n",
       "<p>5 rows × 13825 columns</p>\n",
       "</div>"
      ],
      "text/plain": [
       "          0         1         2         3         4         5         6  \\\n",
       "0  0.042846  0.124823  0.275732  0.195043  0.042775  0.013419  0.020612   \n",
       "1  0.023672  0.047448  0.058399  0.105250  0.091233  0.105898  0.053098   \n",
       "2  0.001609  0.004600  0.027379  0.027074  0.002579  0.008287  0.042709   \n",
       "3  0.016473  0.029656  0.020612  0.030338  0.049569  0.113153  0.083516   \n",
       "4  0.019109  0.129222  0.151689  0.142457  0.125509  0.113003  0.157875   \n",
       "\n",
       "          7         8         9  ...  13815  13816  13817  13818  13819  \\\n",
       "0  0.047416  0.118046  0.220901  ...    0.0    0.0    0.0    0.0    0.0   \n",
       "1  0.090422  0.148984  0.106467  ...    0.0    0.0    0.0    0.0    0.0   \n",
       "2  0.038335  0.067240  0.080544  ...    0.0    0.0    0.0    0.0    0.0   \n",
       "3  0.058937  0.132452  0.085231  ...    0.0    0.0    0.0    0.0    0.0   \n",
       "4  0.058317  0.026644  0.027917  ...    0.0    0.0    0.0    0.0    0.0   \n",
       "\n",
       "   13820  13821  13822  13823   labels  \n",
       "0    0.0    0.0    0.0    0.0    angry  \n",
       "1    0.0    0.0    0.0    0.0    angry  \n",
       "2    0.0    0.0    0.0    0.0  neutral  \n",
       "3    0.0    0.0    0.0    0.0  neutral  \n",
       "4    0.0    0.0    0.0    0.0  disgust  \n",
       "\n",
       "[5 rows x 13825 columns]"
      ]
     },
     "execution_count": 35,
     "metadata": {},
     "output_type": "execute_result"
    }
   ],
   "source": [
    "K.head()"
   ]
  },
  {
   "cell_type": "code",
   "execution_count": null,
   "metadata": {},
   "outputs": [],
   "source": []
  },
  {
   "cell_type": "code",
   "execution_count": 27,
   "metadata": {
    "execution": {
     "iopub.execute_input": "2022-03-27T17:43:08.610428Z",
     "iopub.status.busy": "2022-03-27T17:43:08.60972Z",
     "iopub.status.idle": "2022-03-27T17:43:08.61972Z",
     "shell.execute_reply": "2022-03-27T17:43:08.618431Z",
     "shell.execute_reply.started": "2022-03-27T17:43:08.610371Z"
    }
   },
   "outputs": [
    {
     "data": {
      "text/plain": [
       "array(['angry', 'neutral', 'disgust', 'sad', 'fear', 'happy'],\n",
       "      dtype=object)"
      ]
     },
     "execution_count": 27,
     "metadata": {},
     "output_type": "execute_result"
    }
   ],
   "source": [
    "Features['labels'].unique()"
   ]
  },
  {
   "cell_type": "code",
   "execution_count": 44,
   "metadata": {
    "execution": {
     "iopub.execute_input": "2022-03-27T17:36:18.318822Z",
     "iopub.status.busy": "2022-03-27T17:36:18.317952Z",
     "iopub.status.idle": "2022-03-27T17:36:18.334464Z",
     "shell.execute_reply": "2022-03-27T17:36:18.33325Z",
     "shell.execute_reply.started": "2022-03-27T17:36:18.318757Z"
    }
   },
   "outputs": [],
   "source": [
    "X = K.iloc[: ,:-1].values\n",
    "Y = K['labels'].values"
   ]
  },
  {
   "cell_type": "code",
   "execution_count": 45,
   "metadata": {},
   "outputs": [
    {
     "name": "stdout",
     "output_type": "stream",
     "text": [
      "[[4.28458080e-02 1.24822699e-01 2.75732189e-01 ... 0.00000000e+00\n",
      "  0.00000000e+00 0.00000000e+00]\n",
      " [2.36718692e-02 4.74479832e-02 5.83992042e-02 ... 0.00000000e+00\n",
      "  0.00000000e+00 0.00000000e+00]\n",
      " [1.60943426e-03 4.60023992e-03 2.73785889e-02 ... 0.00000000e+00\n",
      "  0.00000000e+00 0.00000000e+00]\n",
      " ...\n",
      " [8.73817205e-02 4.07535061e-02 9.66123641e-02 ... 0.00000000e+00\n",
      "  0.00000000e+00 0.00000000e+00]\n",
      " [9.10064057e-02 2.03429252e-01 1.09613083e-01 ... 9.89791218e-17\n",
      "  1.73996130e-11 2.17363150e-09]\n",
      " [1.68605875e-02 1.47807542e-02 2.87023596e-02 ... 0.00000000e+00\n",
      "  0.00000000e+00 0.00000000e+00]]\n"
     ]
    }
   ],
   "source": [
    "print(X)"
   ]
  },
  {
   "cell_type": "code",
   "execution_count": 46,
   "metadata": {
    "execution": {
     "iopub.execute_input": "2022-03-27T17:37:07.295787Z",
     "iopub.status.busy": "2022-03-27T17:37:07.295144Z",
     "iopub.status.idle": "2022-03-27T17:37:07.308886Z",
     "shell.execute_reply": "2022-03-27T17:37:07.30786Z",
     "shell.execute_reply.started": "2022-03-27T17:37:07.295746Z"
    }
   },
   "outputs": [],
   "source": [
    "from sklearn.preprocessing import OneHotEncoder\n",
    "encoder = OneHotEncoder()\n",
    "Y = encoder.fit_transform(np.array(Y).reshape(-1,1)).toarray()"
   ]
  },
  {
   "cell_type": "code",
   "execution_count": 47,
   "metadata": {},
   "outputs": [
    {
     "name": "stdout",
     "output_type": "stream",
     "text": [
      "[[1. 0. 0. 0. 0. 0.]\n",
      " [1. 0. 0. 0. 0. 0.]\n",
      " [0. 0. 0. 0. 1. 0.]\n",
      " ...\n",
      " [1. 0. 0. 0. 0. 0.]\n",
      " [1. 0. 0. 0. 0. 0.]\n",
      " [0. 0. 0. 0. 1. 0.]]\n"
     ]
    }
   ],
   "source": [
    "print(Y)"
   ]
  },
  {
   "cell_type": "code",
   "execution_count": 48,
   "metadata": {
    "execution": {
     "iopub.execute_input": "2022-03-27T17:38:11.01959Z",
     "iopub.status.busy": "2022-03-27T17:38:11.018783Z",
     "iopub.status.idle": "2022-03-27T17:38:11.051941Z",
     "shell.execute_reply": "2022-03-27T17:38:11.050781Z",
     "shell.execute_reply.started": "2022-03-27T17:38:11.019527Z"
    }
   },
   "outputs": [
    {
     "data": {
      "text/plain": [
       "((5581, 13824), (5581, 6), (1861, 13824), (1861, 6))"
      ]
     },
     "execution_count": 48,
     "metadata": {},
     "output_type": "execute_result"
    }
   ],
   "source": [
    "from sklearn.preprocessing import StandardScaler\n",
    "from sklearn.metrics import confusion_matrix, classification_report\n",
    "from sklearn.model_selection import train_test_split\n",
    "\n",
    "from tensorflow import keras\n",
    "from keras.callbacks import ReduceLROnPlateau\n",
    "from keras.models import Sequential\n",
    "from keras.layers import Dense, Conv1D, MaxPooling1D, Flatten, Dropout, BatchNormalization\n",
    "from keras.callbacks import ModelCheckpoint\n",
    "x_train, x_test, y_train, y_test = train_test_split(X, Y, random_state=0, shuffle=True)\n",
    "x_train.shape, y_train.shape, x_test.shape, y_test.shape"
   ]
  },
  {
   "cell_type": "code",
   "execution_count": 49,
   "metadata": {
    "execution": {
     "iopub.execute_input": "2022-03-27T17:38:40.694684Z",
     "iopub.status.busy": "2022-03-27T17:38:40.694253Z",
     "iopub.status.idle": "2022-03-27T17:38:40.72584Z",
     "shell.execute_reply": "2022-03-27T17:38:40.724641Z",
     "shell.execute_reply.started": "2022-03-27T17:38:40.694639Z"
    }
   },
   "outputs": [
    {
     "data": {
      "text/plain": [
       "((5581, 13824), (5581, 6), (1861, 13824), (1861, 6))"
      ]
     },
     "execution_count": 49,
     "metadata": {},
     "output_type": "execute_result"
    }
   ],
   "source": [
    "scaler = StandardScaler()\n",
    "x_train = scaler.fit_transform(x_train)\n",
    "x_test = scaler.transform(x_test)\n",
    "x_train.shape, y_train.shape, x_test.shape, y_test.shape"
   ]
  },
  {
   "cell_type": "code",
   "execution_count": 51,
   "metadata": {},
   "outputs": [
    {
     "name": "stdout",
     "output_type": "stream",
     "text": [
      "(5581, 13824)\n"
     ]
    }
   ],
   "source": [
    "print(x_train.shape)"
   ]
  },
  {
   "cell_type": "code",
   "execution_count": 56,
   "metadata": {},
   "outputs": [],
   "source": [
    "from tensorflow import keras\n",
    "import tensorflow as tensorflow"
   ]
  },
  {
   "cell_type": "code",
   "execution_count": 58,
   "metadata": {},
   "outputs": [],
   "source": [
    "model = keras.Sequential([\n",
    "    keras.layers.Flatten(input_shape=(1, 13824)),\n",
    "    keras.layers.Dense(512, activation=tensorflow.nn.relu),\n",
    "    keras.layers.Dense(64, activation=tensorflow.nn.relu),\n",
    "    keras.layers.Dense(16, activation=tensorflow.nn.relu),\n",
    "    keras.layers.Dense(6, activation=tensorflow.nn.softmax)\n",
    "])"
   ]
  },
  {
   "cell_type": "code",
   "execution_count": 60,
   "metadata": {
    "execution": {
     "iopub.execute_input": "2022-03-27T17:49:09.788945Z",
     "iopub.status.busy": "2022-03-27T17:49:09.788544Z",
     "iopub.status.idle": "2022-03-27T17:49:10.473482Z",
     "shell.execute_reply": "2022-03-27T17:49:10.472173Z",
     "shell.execute_reply.started": "2022-03-27T17:49:09.788905Z"
    }
   },
   "outputs": [],
   "source": [
    "model.compile(optimizer=keras.optimizers.RMSprop(),  # Optimizer\n",
    "              # Минимизируемая функция потерь\n",
    "              loss=keras.losses.SparseCategoricalCrossentropy(),\n",
    "              # Список метрик для мониторинга\n",
    "              metrics=[keras.metrics.SparseCategoricalAccuracy()])"
   ]
  },
  {
   "cell_type": "code",
   "execution_count": 61,
   "metadata": {},
   "outputs": [
    {
     "name": "stdout",
     "output_type": "stream",
     "text": [
      "Epoch 1/5\n"
     ]
    },
    {
     "ename": "ValueError",
     "evalue": "in user code:\n\n    File \"/Users/germanzelenin/opt/anaconda3/lib/python3.9/site-packages/keras/engine/training.py\", line 1021, in train_function  *\n        return step_function(self, iterator)\n    File \"/Users/germanzelenin/opt/anaconda3/lib/python3.9/site-packages/keras/engine/training.py\", line 1010, in step_function  **\n        outputs = model.distribute_strategy.run(run_step, args=(data,))\n    File \"/Users/germanzelenin/opt/anaconda3/lib/python3.9/site-packages/keras/engine/training.py\", line 1000, in run_step  **\n        outputs = model.train_step(data)\n    File \"/Users/germanzelenin/opt/anaconda3/lib/python3.9/site-packages/keras/engine/training.py\", line 859, in train_step\n        y_pred = self(x, training=True)\n    File \"/Users/germanzelenin/opt/anaconda3/lib/python3.9/site-packages/keras/utils/traceback_utils.py\", line 67, in error_handler\n        raise e.with_traceback(filtered_tb) from None\n    File \"/Users/germanzelenin/opt/anaconda3/lib/python3.9/site-packages/keras/engine/input_spec.py\", line 264, in assert_input_compatibility\n        raise ValueError(f'Input {input_index} of layer \"{layer_name}\" is '\n\n    ValueError: Input 0 of layer \"sequential_1\" is incompatible with the layer: expected shape=(None, 1, 13824), found shape=(None, 13824)\n",
     "output_type": "error",
     "traceback": [
      "\u001b[0;31m---------------------------------------------------------------------------\u001b[0m",
      "\u001b[0;31mValueError\u001b[0m                                Traceback (most recent call last)",
      "\u001b[0;32m/var/folders/zv/mdzh5_vd2dx1b8z8y90p6xtm0000gn/T/ipykernel_80631/2168363081.py\u001b[0m in \u001b[0;36m<module>\u001b[0;34m\u001b[0m\n\u001b[0;32m----> 1\u001b[0;31m \u001b[0mmodel\u001b[0m\u001b[0;34m.\u001b[0m\u001b[0mfit\u001b[0m\u001b[0;34m(\u001b[0m\u001b[0mx_train\u001b[0m\u001b[0;34m,\u001b[0m \u001b[0my_train\u001b[0m\u001b[0;34m,\u001b[0m \u001b[0mepochs\u001b[0m\u001b[0;34m=\u001b[0m\u001b[0;36m5\u001b[0m\u001b[0;34m)\u001b[0m\u001b[0;34m\u001b[0m\u001b[0;34m\u001b[0m\u001b[0m\n\u001b[0m",
      "\u001b[0;32m~/opt/anaconda3/lib/python3.9/site-packages/keras/utils/traceback_utils.py\u001b[0m in \u001b[0;36merror_handler\u001b[0;34m(*args, **kwargs)\u001b[0m\n\u001b[1;32m     65\u001b[0m     \u001b[0;32mexcept\u001b[0m \u001b[0mException\u001b[0m \u001b[0;32mas\u001b[0m \u001b[0me\u001b[0m\u001b[0;34m:\u001b[0m  \u001b[0;31m# pylint: disable=broad-except\u001b[0m\u001b[0;34m\u001b[0m\u001b[0;34m\u001b[0m\u001b[0m\n\u001b[1;32m     66\u001b[0m       \u001b[0mfiltered_tb\u001b[0m \u001b[0;34m=\u001b[0m \u001b[0m_process_traceback_frames\u001b[0m\u001b[0;34m(\u001b[0m\u001b[0me\u001b[0m\u001b[0;34m.\u001b[0m\u001b[0m__traceback__\u001b[0m\u001b[0;34m)\u001b[0m\u001b[0;34m\u001b[0m\u001b[0;34m\u001b[0m\u001b[0m\n\u001b[0;32m---> 67\u001b[0;31m       \u001b[0;32mraise\u001b[0m \u001b[0me\u001b[0m\u001b[0;34m.\u001b[0m\u001b[0mwith_traceback\u001b[0m\u001b[0;34m(\u001b[0m\u001b[0mfiltered_tb\u001b[0m\u001b[0;34m)\u001b[0m \u001b[0;32mfrom\u001b[0m \u001b[0;32mNone\u001b[0m\u001b[0;34m\u001b[0m\u001b[0;34m\u001b[0m\u001b[0m\n\u001b[0m\u001b[1;32m     68\u001b[0m     \u001b[0;32mfinally\u001b[0m\u001b[0;34m:\u001b[0m\u001b[0;34m\u001b[0m\u001b[0;34m\u001b[0m\u001b[0m\n\u001b[1;32m     69\u001b[0m       \u001b[0;32mdel\u001b[0m \u001b[0mfiltered_tb\u001b[0m\u001b[0;34m\u001b[0m\u001b[0;34m\u001b[0m\u001b[0m\n",
      "\u001b[0;32m~/opt/anaconda3/lib/python3.9/site-packages/tensorflow/python/framework/func_graph.py\u001b[0m in \u001b[0;36mautograph_handler\u001b[0;34m(*args, **kwargs)\u001b[0m\n\u001b[1;32m   1145\u001b[0m           \u001b[0;32mexcept\u001b[0m \u001b[0mException\u001b[0m \u001b[0;32mas\u001b[0m \u001b[0me\u001b[0m\u001b[0;34m:\u001b[0m  \u001b[0;31m# pylint:disable=broad-except\u001b[0m\u001b[0;34m\u001b[0m\u001b[0;34m\u001b[0m\u001b[0m\n\u001b[1;32m   1146\u001b[0m             \u001b[0;32mif\u001b[0m \u001b[0mhasattr\u001b[0m\u001b[0;34m(\u001b[0m\u001b[0me\u001b[0m\u001b[0;34m,\u001b[0m \u001b[0;34m\"ag_error_metadata\"\u001b[0m\u001b[0;34m)\u001b[0m\u001b[0;34m:\u001b[0m\u001b[0;34m\u001b[0m\u001b[0;34m\u001b[0m\u001b[0m\n\u001b[0;32m-> 1147\u001b[0;31m               \u001b[0;32mraise\u001b[0m \u001b[0me\u001b[0m\u001b[0;34m.\u001b[0m\u001b[0mag_error_metadata\u001b[0m\u001b[0;34m.\u001b[0m\u001b[0mto_exception\u001b[0m\u001b[0;34m(\u001b[0m\u001b[0me\u001b[0m\u001b[0;34m)\u001b[0m\u001b[0;34m\u001b[0m\u001b[0;34m\u001b[0m\u001b[0m\n\u001b[0m\u001b[1;32m   1148\u001b[0m             \u001b[0;32melse\u001b[0m\u001b[0;34m:\u001b[0m\u001b[0;34m\u001b[0m\u001b[0;34m\u001b[0m\u001b[0m\n\u001b[1;32m   1149\u001b[0m               \u001b[0;32mraise\u001b[0m\u001b[0;34m\u001b[0m\u001b[0;34m\u001b[0m\u001b[0m\n",
      "\u001b[0;31mValueError\u001b[0m: in user code:\n\n    File \"/Users/germanzelenin/opt/anaconda3/lib/python3.9/site-packages/keras/engine/training.py\", line 1021, in train_function  *\n        return step_function(self, iterator)\n    File \"/Users/germanzelenin/opt/anaconda3/lib/python3.9/site-packages/keras/engine/training.py\", line 1010, in step_function  **\n        outputs = model.distribute_strategy.run(run_step, args=(data,))\n    File \"/Users/germanzelenin/opt/anaconda3/lib/python3.9/site-packages/keras/engine/training.py\", line 1000, in run_step  **\n        outputs = model.train_step(data)\n    File \"/Users/germanzelenin/opt/anaconda3/lib/python3.9/site-packages/keras/engine/training.py\", line 859, in train_step\n        y_pred = self(x, training=True)\n    File \"/Users/germanzelenin/opt/anaconda3/lib/python3.9/site-packages/keras/utils/traceback_utils.py\", line 67, in error_handler\n        raise e.with_traceback(filtered_tb) from None\n    File \"/Users/germanzelenin/opt/anaconda3/lib/python3.9/site-packages/keras/engine/input_spec.py\", line 264, in assert_input_compatibility\n        raise ValueError(f'Input {input_index} of layer \"{layer_name}\" is '\n\n    ValueError: Input 0 of layer \"sequential_1\" is incompatible with the layer: expected shape=(None, 1, 13824), found shape=(None, 13824)\n"
     ]
    }
   ],
   "source": [
    "model.fit(x_train, y_train, epochs=5)"
   ]
  },
  {
   "cell_type": "code",
   "execution_count": 49,
   "metadata": {
    "execution": {
     "iopub.execute_input": "2022-03-27T17:49:24.74905Z",
     "iopub.status.busy": "2022-03-27T17:49:24.748496Z",
     "iopub.status.idle": "2022-03-27T17:49:24.768678Z",
     "shell.execute_reply": "2022-03-27T17:49:24.767652Z",
     "shell.execute_reply.started": "2022-03-27T17:49:24.749011Z"
    }
   },
   "outputs": [
    {
     "data": {
      "text/html": [
       "<div>\n",
       "<style scoped>\n",
       "    .dataframe tbody tr th:only-of-type {\n",
       "        vertical-align: middle;\n",
       "    }\n",
       "\n",
       "    .dataframe tbody tr th {\n",
       "        vertical-align: top;\n",
       "    }\n",
       "\n",
       "    .dataframe thead th {\n",
       "        text-align: right;\n",
       "    }\n",
       "</style>\n",
       "<table border=\"1\" class=\"dataframe\">\n",
       "  <thead>\n",
       "    <tr style=\"text-align: right;\">\n",
       "      <th></th>\n",
       "      <th>Predicted Labels</th>\n",
       "      <th>Actual Labels</th>\n",
       "    </tr>\n",
       "  </thead>\n",
       "  <tbody>\n",
       "    <tr>\n",
       "      <th>0</th>\n",
       "      <td>angry</td>\n",
       "      <td>angry</td>\n",
       "    </tr>\n",
       "    <tr>\n",
       "      <th>1</th>\n",
       "      <td>angry</td>\n",
       "      <td>angry</td>\n",
       "    </tr>\n",
       "    <tr>\n",
       "      <th>2</th>\n",
       "      <td>neutral</td>\n",
       "      <td>neutral</td>\n",
       "    </tr>\n",
       "    <tr>\n",
       "      <th>3</th>\n",
       "      <td>fear</td>\n",
       "      <td>neutral</td>\n",
       "    </tr>\n",
       "    <tr>\n",
       "      <th>4</th>\n",
       "      <td>happy</td>\n",
       "      <td>happy</td>\n",
       "    </tr>\n",
       "    <tr>\n",
       "      <th>5</th>\n",
       "      <td>angry</td>\n",
       "      <td>angry</td>\n",
       "    </tr>\n",
       "    <tr>\n",
       "      <th>6</th>\n",
       "      <td>fear</td>\n",
       "      <td>happy</td>\n",
       "    </tr>\n",
       "    <tr>\n",
       "      <th>7</th>\n",
       "      <td>fear</td>\n",
       "      <td>disgust</td>\n",
       "    </tr>\n",
       "    <tr>\n",
       "      <th>8</th>\n",
       "      <td>sad</td>\n",
       "      <td>neutral</td>\n",
       "    </tr>\n",
       "    <tr>\n",
       "      <th>9</th>\n",
       "      <td>angry</td>\n",
       "      <td>angry</td>\n",
       "    </tr>\n",
       "  </tbody>\n",
       "</table>\n",
       "</div>"
      ],
      "text/plain": [
       "  Predicted Labels Actual Labels\n",
       "0            angry         angry\n",
       "1            angry         angry\n",
       "2          neutral       neutral\n",
       "3             fear       neutral\n",
       "4            happy         happy\n",
       "5            angry         angry\n",
       "6             fear         happy\n",
       "7             fear       disgust\n",
       "8              sad       neutral\n",
       "9            angry         angry"
      ]
     },
     "execution_count": 49,
     "metadata": {},
     "output_type": "execute_result"
    }
   ],
   "source": [
    "df = pd.DataFrame(columns=['Predicted Labels', 'Actual Labels'])\n",
    "df['Predicted Labels'] = y_pred.flatten()\n",
    "df['Actual Labels'] = y_test.flatten()\n",
    "\n",
    "df.head(10)"
   ]
  },
  {
   "cell_type": "code",
   "execution_count": 50,
   "metadata": {
    "execution": {
     "iopub.execute_input": "2022-03-27T17:49:45.784057Z",
     "iopub.status.busy": "2022-03-27T17:49:45.78299Z",
     "iopub.status.idle": "2022-03-27T17:49:46.207078Z",
     "shell.execute_reply": "2022-03-27T17:49:46.206024Z",
     "shell.execute_reply.started": "2022-03-27T17:49:45.783998Z"
    }
   },
   "outputs": [
    {
     "data": {
      "image/png": "[encoded data removed]",
      "text/plain": [
       "<Figure size 864x720 with 2 Axes>"
      ]
     },
     "metadata": {
      "needs_background": "light"
     },
     "output_type": "display_data"
    }
   ],
   "source": [
    "cm = confusion_matrix(y_test, y_pred)\n",
    "plt.figure(figsize = (12, 10))\n",
    "cm = pd.DataFrame(cm , index = [i for i in encoder.categories_] , columns = [i for i in encoder.categories_])\n",
    "sns.heatmap(cm, linecolor='white', cmap='Blues', linewidth=1, annot=True, fmt='')\n",
    "plt.title('Confusion Matrix', size=20)\n",
    "plt.xlabel('Predicted Labels', size=14)\n",
    "plt.ylabel('Actual Labels', size=14)\n",
    "plt.show()"
   ]
  },
  {
   "cell_type": "code",
   "execution_count": 51,
   "metadata": {
    "execution": {
     "iopub.execute_input": "2022-03-27T17:50:14.599282Z",
     "iopub.status.busy": "2022-03-27T17:50:14.598916Z",
     "iopub.status.idle": "2022-03-27T17:50:14.697702Z",
     "shell.execute_reply": "2022-03-27T17:50:14.696259Z",
     "shell.execute_reply.started": "2022-03-27T17:50:14.599245Z"
    }
   },
   "outputs": [
    {
     "name": "stdout",
     "output_type": "stream",
     "text": [
      "              precision    recall  f1-score   support\n",
      "\n",
      "       angry       0.61      0.59      0.60       337\n",
      "     disgust       0.30      0.23      0.26       306\n",
      "        fear       0.37      0.33      0.35       329\n",
      "       happy       0.38      0.35      0.36       299\n",
      "     neutral       0.38      0.50      0.43       266\n",
      "         sad       0.49      0.58      0.53       324\n",
      "\n",
      "    accuracy                           0.43      1861\n",
      "   macro avg       0.42      0.43      0.42      1861\n",
      "weighted avg       0.43      0.43      0.43      1861\n",
      "\n"
     ]
    }
   ],
   "source": [
    "print(classification_report(y_test, y_pred))"
   ]
  },
  {
   "cell_type": "code",
   "execution_count": null,
   "metadata": {},
   "outputs": [],
   "source": []
  }
 ],
 "metadata": {
  "kernelspec": {
   "display_name": "Python 3 (ipykernel)",
   "language": "python",
   "name": "python3"
  },
  "language_info": {
   "codemirror_mode": {
    "name": "ipython",
    "version": 3
   },
   "file_extension": ".py",
   "mimetype": "text/x-python",
   "name": "python",
   "nbconvert_exporter": "python",
   "pygments_lexer": "ipython3",
   "version": "3.9.7"
  }
 },
 "nbformat": 4,
 "nbformat_minor": 4
}
